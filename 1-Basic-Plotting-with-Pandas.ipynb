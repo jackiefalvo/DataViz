{
 "cells": [
  {
   "cell_type": "markdown",
   "metadata": {},
   "source": [
    "# Basic plotting with Pandas\n",
    "Pandas supports some useful plotting function which are actually a subset of the Matplotlib package's more substantial plotting capabilities. And so, we'll begin our exploration of plotting with Pandas and in doing so distill plots into their fundamental components.\n",
    "\n",
    "We will use a dataset listing 2010 water consumption by sector for each state with categories for fresh vs saline water usage. This data also includes a column listing the state's population. From this dataset, we'll generate a number of different plots and explore the components of these plots and how they are controlled. "
   ]
  },
  {
   "cell_type": "markdown",
   "metadata": {},
   "source": [
    "## 1. Analysis set up"
   ]
  },
  {
   "cell_type": "code",
   "execution_count": 1,
   "metadata": {},
   "outputs": [],
   "source": [
    "#Import pandas\n",
    "import pandas as pd"
   ]
  },
  {
   "cell_type": "code",
   "execution_count": 4,
   "metadata": {},
   "outputs": [],
   "source": [
    "#Set images to display inline (displays in jupyter notebook) -- there are other options for this\n",
    "%matplotlib inline "
   ]
  },
  {
   "cell_type": "code",
   "execution_count": 5,
   "metadata": {},
   "outputs": [
    {
     "data": {
      "text/html": [
       "<div>\n",
       "<style scoped>\n",
       "    .dataframe tbody tr th:only-of-type {\n",
       "        vertical-align: middle;\n",
       "    }\n",
       "\n",
       "    .dataframe tbody tr th {\n",
       "        vertical-align: top;\n",
       "    }\n",
       "\n",
       "    .dataframe thead th {\n",
       "        text-align: right;\n",
       "    }\n",
       "</style>\n",
       "<table border=\"1\" class=\"dataframe\">\n",
       "  <thead>\n",
       "    <tr style=\"text-align: right;\">\n",
       "      <th></th>\n",
       "      <th>State</th>\n",
       "      <th>Source</th>\n",
       "      <th>Type</th>\n",
       "      <th>Category</th>\n",
       "      <th>Withdrawal_MGD</th>\n",
       "      <th>Population</th>\n",
       "    </tr>\n",
       "  </thead>\n",
       "  <tbody>\n",
       "    <tr>\n",
       "      <th>0</th>\n",
       "      <td>Alabama</td>\n",
       "      <td>Surface</td>\n",
       "      <td>Fresh</td>\n",
       "      <td>Total</td>\n",
       "      <td>9470.0</td>\n",
       "      <td>4780000</td>\n",
       "    </tr>\n",
       "    <tr>\n",
       "      <th>1</th>\n",
       "      <td>Alaska</td>\n",
       "      <td>Surface</td>\n",
       "      <td>Fresh</td>\n",
       "      <td>Total</td>\n",
       "      <td>391.0</td>\n",
       "      <td>710000</td>\n",
       "    </tr>\n",
       "    <tr>\n",
       "      <th>2</th>\n",
       "      <td>Arizona</td>\n",
       "      <td>Surface</td>\n",
       "      <td>Fresh</td>\n",
       "      <td>Total</td>\n",
       "      <td>3540.0</td>\n",
       "      <td>6390000</td>\n",
       "    </tr>\n",
       "    <tr>\n",
       "      <th>3</th>\n",
       "      <td>Arkansas</td>\n",
       "      <td>Surface</td>\n",
       "      <td>Fresh</td>\n",
       "      <td>Total</td>\n",
       "      <td>3540.0</td>\n",
       "      <td>2920000</td>\n",
       "    </tr>\n",
       "    <tr>\n",
       "      <th>4</th>\n",
       "      <td>California</td>\n",
       "      <td>Surface</td>\n",
       "      <td>Fresh</td>\n",
       "      <td>Total</td>\n",
       "      <td>18800.0</td>\n",
       "      <td>37300000</td>\n",
       "    </tr>\n",
       "  </tbody>\n",
       "</table>\n",
       "</div>"
      ],
      "text/plain": [
       "        State   Source   Type Category  Withdrawal_MGD  Population\n",
       "0     Alabama  Surface  Fresh    Total          9470.0     4780000\n",
       "1      Alaska  Surface  Fresh    Total           391.0      710000\n",
       "2     Arizona  Surface  Fresh    Total          3540.0     6390000\n",
       "3    Arkansas  Surface  Fresh    Total          3540.0     2920000\n",
       "4  California  Surface  Fresh    Total         18800.0    37300000"
      ]
     },
     "execution_count": 5,
     "metadata": {},
     "output_type": "execute_result"
    }
   ],
   "source": [
    "# read in sample water use data\n",
    "dfWaterUse = pd.read_csv('./data/State_Data_Formatted_All.csv')\n",
    "dfWaterUse.head()"
   ]
  },
  {
   "cell_type": "markdown",
   "metadata": {},
   "source": [
    "## 2. Data exploration\n",
    "Before making plots, it's useful to see what values we have in various columns. The number of values will affect what kinds of plots we want to make: too many unique values may make our plot overly complex and unreadable. "
   ]
  },
  {
   "cell_type": "markdown",
   "metadata": {},
   "source": [
    "### Exploring the number of unique category values in our data...\n",
    "Plots simplify data to convey a message. Thus if the plot has too many categories, the message may get muddled. Let's begin our exploration by looking at the various categories we can use to reduce our data. "
   ]
  },
  {
   "cell_type": "code",
   "execution_count": 6,
   "metadata": {},
   "outputs": [
    {
     "name": "stdout",
     "output_type": "stream",
     "text": [
      "<class 'pandas.core.frame.DataFrame'>\n",
      "RangeIndex: 2226 entries, 0 to 2225\n",
      "Data columns (total 6 columns):\n",
      " #   Column          Non-Null Count  Dtype  \n",
      "---  ------          --------------  -----  \n",
      " 0   State           2226 non-null   object \n",
      " 1   Source          2226 non-null   object \n",
      " 2   Type            2226 non-null   object \n",
      " 3   Category        2226 non-null   object \n",
      " 4   Withdrawal_MGD  2226 non-null   float64\n",
      " 5   Population      2226 non-null   int64  \n",
      "dtypes: float64(1), int64(1), object(4)\n",
      "memory usage: 104.5+ KB\n"
     ]
    }
   ],
   "source": [
    "dfWaterUse.info()"
   ]
  },
  {
   "cell_type": "code",
   "execution_count": 19,
   "metadata": {},
   "outputs": [
    {
     "data": {
      "text/plain": [
       "array(['Alabama', 'Alaska', 'Arizona', 'Arkansas', 'California',\n",
       "       'Colorado', 'Connecticut', 'Delaware', 'District Of Columbia',\n",
       "       'Florida', 'Georgia', 'Hawaii', 'Idaho', 'Illinois', 'Indiana',\n",
       "       'Iowa', 'Kansas', 'Kentucky', 'Louisiana', 'Maine', 'Maryland',\n",
       "       'Massachusetts', 'Michigan', 'Minnesota', 'Mississippi',\n",
       "       'Missouri', 'Montana', 'Nebraska', 'Nevada', 'New Hampshire',\n",
       "       'New Jersey', 'New Mexico', 'New York', 'North Carolina',\n",
       "       'North Dakota', 'Ohio', 'Oklahoma', 'Oregon', 'Pennsylvania',\n",
       "       'Rhode Island', 'South Carolina', 'South Dakota', 'Tennessee',\n",
       "       'Texas', 'Utah', 'Vermont', 'Virginia', 'Washington',\n",
       "       'West Virginia', 'Wisconsin', 'Wyoming', 'Puerto Rico',\n",
       "       'U.S. Virgin Islands'], dtype=object)"
      ]
     },
     "execution_count": 19,
     "metadata": {},
     "output_type": "execute_result"
    }
   ],
   "source": [
    "# how many records for VA\n",
    "dfWaterUse['State'].unique()"
   ]
  },
  {
   "cell_type": "code",
   "execution_count": 15,
   "metadata": {},
   "outputs": [
    {
     "data": {
      "text/plain": [
       "array(['Fresh', 'Saline'], dtype=object)"
      ]
     },
     "execution_count": 15,
     "metadata": {},
     "output_type": "execute_result"
    }
   ],
   "source": [
    "#List unique values in the Type field\n",
    "dfWaterUse['Type'].unique()"
   ]
  },
  {
   "cell_type": "code",
   "execution_count": 16,
   "metadata": {},
   "outputs": [
    {
     "data": {
      "text/plain": [
       "array(['Total', 'Public Supply', 'Self Supplied', 'Irrigation',\n",
       "       'Livestock', 'Aquaculture', 'Industrial', 'Mining',\n",
       "       'Thermoelectric'], dtype=object)"
      ]
     },
     "execution_count": 16,
     "metadata": {},
     "output_type": "execute_result"
    }
   ],
   "source": [
    "#List number of unique values in the Category field\n",
    "dfWaterUse['Category'].unique()"
   ]
  },
  {
   "cell_type": "code",
   "execution_count": 20,
   "metadata": {},
   "outputs": [
    {
     "data": {
      "text/plain": [
       "53"
      ]
     },
     "execution_count": 20,
     "metadata": {},
     "output_type": "execute_result"
    }
   ],
   "source": [
    "#List number of unique values in the Category field\n",
    "dfWaterUse['State'].nunique()"
   ]
  },
  {
   "cell_type": "markdown",
   "metadata": {},
   "source": [
    "So, we have two \"Types\" and nine \"Categories\". That seems manageable for some simple plots using these as axes. Plotting with \"States\" as an axis (n=53) may be a bit too complex for some basic plots though... "
   ]
  },
  {
   "cell_type": "markdown",
   "metadata": {},
   "source": [
    " ### Evaluate useful groupings and subsets of data...\n",
    "Now that we've explored the number of unique values in various categorical columns, we can mull various ways of grouping data and perhaps filtering records into particular subsets. \n",
    "\n",
    "One example, related to exploring our data, might be to display the number of records in each category. This is done with the Pandas `value_counts()` command. "
   ]
  },
  {
   "cell_type": "code",
   "execution_count": null,
   "metadata": {},
   "outputs": [],
   "source": [
    "#Reveal the number of records within each unique \"Category\"\n",
    "dfWaterUse['Category'].value_counts()"
   ]
  },
  {
   "cell_type": "markdown",
   "metadata": {},
   "source": [
    "Here we see that two categories have more records than the others. But, what if we ask that question a slightly different way: What if we wanted to list the number of records in each category that reflect a non-zero water withdrawal? "
   ]
  },
  {
   "cell_type": "code",
   "execution_count": null,
   "metadata": {},
   "outputs": [],
   "source": [
    "#Filter for records where withdrawal is greater than zero and show the number of records by category\n",
    "dfNonZero = dfWaterUse.query('Withdrawal_MGD > 0')\n",
    "dfNonZero['Category'].value_counts()"
   ]
  },
  {
   "cell_type": "markdown",
   "metadata": {},
   "source": [
    "That result tells a different story: it shows that while we have the same number of measurements for many categories, some categories reflect no withdrawals..."
   ]
  },
  {
   "cell_type": "markdown",
   "metadata": {},
   "source": [
    "## Plotting\n",
    "The above table is easy enough to read and interpret, but we can plot the data to tell the same story much more effectively. And we can creat these plots fairly quickly with Pandas commands...\n",
    "\n",
    "We'll start simple, and then modify our plot commands to get to a more effective communication device. First we'll convert our table of value counts to its own variable (a Pandas series object), and then explore Pandas `dataframe.plot()` command."
   ]
  },
  {
   "cell_type": "code",
   "execution_count": null,
   "metadata": {},
   "outputs": [],
   "source": [
    "dfCounts = dfNonZero['Category'].value_counts()"
   ]
  },
  {
   "cell_type": "markdown",
   "metadata": {},
   "source": [
    "#### Plot types"
   ]
  },
  {
   "cell_type": "code",
   "execution_count": null,
   "metadata": {},
   "outputs": [],
   "source": [
    "#Plot the number of records in each category; default is line\n",
    "dfCounts.plot();"
   ]
  },
  {
   "cell_type": "markdown",
   "metadata": {},
   "source": [
    "Documentation on the Pandas `plot()` command is here:<br>https://pandas.pydata.org/pandas-docs/version/0.23.4/generated/pandas.DataFrame.plot.html. \n",
    "\n",
    "Have a look at the command's arguments, particularly the `kind` arcgument. The default is `line`. "
   ]
  },
  {
   "cell_type": "code",
   "execution_count": null,
   "metadata": {},
   "outputs": [],
   "source": [
    "#Same as above, but the \"kind\" parameter is explicit\n",
    "dfCounts.plot(kind='line');"
   ]
  },
  {
   "cell_type": "code",
   "execution_count": null,
   "metadata": {},
   "outputs": [],
   "source": [
    "#Change plot types by changing the kind value to \"bar\"\n",
    "dfCounts.plot(kind='bar');"
   ]
  },
  {
   "cell_type": "markdown",
   "metadata": {},
   "source": [
    "► Try some other plot types: `barh`, `box`, `pie`, `scatter`\n",
    "\n",
    "Some of these types make sense, others do not given our data. Some types (e.g. `scatter`) won't even work. _Different plot types have different uses_:\n",
    " * <u>Line plots</u> are good for tracking change over time; the x-axis is continuous. \n",
    " * <u>Bar and horizontal bar plots</u> can also track change over time, but here the x-axis (or y, if horizontal) is discrete, not continuous, so the time would be in blocks. These plots are also good for comparing values associated with various groups. \n",
    " * <u>Pie charts</u> do not show change (no x-axis!) but are good at showing parts of a whole. \n",
    " \n",
    "There are many other types of plots and charts, of course, and each has a best case scenario. Check the literature for a more in-depth discussion on this. For example: see Stephanie Evergreen's [Chart Chooser utilities](http://stephanieevergreen.com/tag/chart-chooser/) for some ideas.\n"
   ]
  },
  {
   "cell_type": "markdown",
   "metadata": {},
   "source": [
    "#### Plot colors\n",
    "Refering back to the Pandas documentation, we see another plot argument is `color`...\n",
    "\n",
    "* Change the color of the bars in the horizontal bar plot with the `color` option. You can use any named color shown here: https://matplotlib.org/examples/color/named_colors.html, or you can specify a color by it's hexcode (see https://htmlcolorcodes.com/) preceded by a `#`, e.g. `#ff5733`. Try changing the color below to `maroon`."
   ]
  },
  {
   "cell_type": "code",
   "execution_count": null,
   "metadata": {},
   "outputs": [],
   "source": [
    "dfCounts.plot(kind='barh',color='#ff5733');"
   ]
  },
  {
   "cell_type": "markdown",
   "metadata": {},
   "source": [
    "#### Plot canvas size\n",
    "* Change the size of the plot with `figsize=()`. Supply a tuple of width and height to change the size of your plot. Values are somewhat arbitrary, so play around. (Also note that I've changed the format of the command, putting parameters on separate lines to make it more readable...) "
   ]
  },
  {
   "cell_type": "code",
   "execution_count": null,
   "metadata": {},
   "outputs": [],
   "source": [
    "dfCounts.plot(kind='barh',\n",
    "              color='navy',\n",
    "              figsize=(8,5));"
   ]
  },
  {
   "cell_type": "markdown",
   "metadata": {},
   "source": [
    "#### Colormaps\n",
    "\n",
    "* *Colormaps* apply a suite of colors to values in a plot. Below is an example of applying a colormap to our pie chart. "
   ]
  },
  {
   "cell_type": "code",
   "execution_count": null,
   "metadata": {},
   "outputs": [],
   "source": [
    "dfCounts.plot(kind='pie',\n",
    "              colormap ='Pastel1',\n",
    "              figsize=(5,5));"
   ]
  },
  {
   "cell_type": "markdown",
   "metadata": {},
   "source": [
    "There are 3 classes of colormap, each with its own use:\n",
    " * **Sequential** colormaps have a change of lightness over one color. They used for continuous, ordered values.\n",
    " * **Diverging** colormaps are used when the information being plotted deviates around a middle value. Here there are often two different colors being used.\n",
    " * **Qualitative** colormaps are for unordered, categorical data.\n",
    " \n",
    "See this link for a nice discussion:\n",
    "https://matplotlib.org/users/colormaps.html"
   ]
  },
  {
   "cell_type": "markdown",
   "metadata": {},
   "source": [
    "#### Labels"
   ]
  },
  {
   "cell_type": "code",
   "execution_count": null,
   "metadata": {},
   "outputs": [],
   "source": [
    "dfCounts.plot(kind='pie',\n",
    "              colormap ='Pastel1',\n",
    "              title='',\n",
    "              figsize=(5,5));"
   ]
  },
  {
   "cell_type": "markdown",
   "metadata": {},
   "source": [
    "## Recap: Plotting with Pandas\n",
    "We can actually continue digging deeper into the subcommands of the Panda's plot function. But as we dig deeper, we are really just crossing over more into the `Matplotlib` package. (In fact, the Pandas plot command is really just a simplified interface to Matplotlib. \n",
    "\n",
    "So... let's just take the plunge and begin discussing that package."
   ]
  }
 ],
 "metadata": {
  "kernelspec": {
   "display_name": "Python 3",
   "language": "python",
   "name": "python3"
  },
  "language_info": {
   "codemirror_mode": {
    "name": "ipython",
    "version": 3
   },
   "file_extension": ".py",
   "mimetype": "text/x-python",
   "name": "python",
   "nbconvert_exporter": "python",
   "pygments_lexer": "ipython3",
   "version": "3.6.12"
  }
 },
 "nbformat": 4,
 "nbformat_minor": 2
}
